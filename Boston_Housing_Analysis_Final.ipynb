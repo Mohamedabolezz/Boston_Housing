{
 "cells": [
  {
   "cell_type": "markdown",
   "id": "cccba67c-f011-47ea-92aa-9538185145ee",
   "metadata": {},
   "outputs": [],
   "source": [
    "<center>\n",
    "    <img src=\"https://s3-api.us-geo.objectstorage.softlayer.net/cf-courses-data/CognitiveClass/Logos/organization_logo/organization_logo.png\" width=\"300\" alt=\"cognitiveclass.ai logo\">\n",
    "</center>\n"
   ]
  },
  {
   "cell_type": "markdown",
   "id": "ef235a6c-2eb6-4254-a94f-5aa702e1b6c4",
   "metadata": {},
   "outputs": [],
   "source": [
    "#### Import the required libraries we need for the lab.\n"
   ]
  },
  {
   "cell_type": "code",
   "id": "056c9785-c42c-4ee3-9cdb-fa4606224cb3",
   "metadata": {},
   "outputs": [],
   "source": [
    "import pandas as pd\n",
    "import seaborn as sns\n",
    "import matplotlib.pyplot as pyplot\n",
    "import scipy.stats\n",
    "import statsmodels.api as sm\n",
    "from statsmodels.formula.api import ols"
   ]
  },
  {
   "cell_type": "markdown",
   "id": "c0ad07f2-260e-4ad3-a191-f11c140bd39e",
   "metadata": {},
   "outputs": [],
   "source": [
    "#### Read the dataset in the csv file from the URL\n"
   ]
  },
  {
   "cell_type": "code",
   "id": "96c6fdfd-5bb0-4469-98b2-f39b7d57cb1f",
   "metadata": {},
   "outputs": [],
   "source": [
    "boston_df=pd.read_csv('https://cf-courses-data.s3.us.cloud-object-storage.appdomain.cloud/IBMDeveloperSkillsNetwork-ST0151EN-SkillsNetwork/labs/boston_housing.csv')"
   ]
  },
  {
   "cell_type": "markdown",
   "id": "55cfa903-c192-4644-9480-dcbdd4f1d335",
   "metadata": {},
   "outputs": [],
   "source": [
    "#### Add your code below following the instructions given in the course to complete the peer graded assignment\n"
   ]
  },
  {
   "cell_type": "code",
   "id": "5b8b078d-dd2b-4ddb-8c9d-33aa60bb26a2",
   "metadata": {},
   "outputs": [],
   "source": []
  },
  {
   "cell_type": "markdown",
   "id": "c0bbb83c",
   "metadata": {},
   "source": [
    "## Task 1: Familiarize Yourself with the Dataset\n",
    "Here we load and preview the Boston Housing dataset and review its key variables and statistics."
   ]
  },
  {
   "cell_type": "code",
   "execution_count": null,
   "id": "6fbf4758",
   "metadata": {},
   "outputs": [],
   "source": [
    "from sklearn.datasets import load_boston\n",
    "import pandas as pd\n",
    "import numpy as np\n",
    "\n",
    "# Load dataset\n",
    "boston_data = load_boston()\n",
    "boston = pd.DataFrame(boston_data.data, columns=boston_data.feature_names)\n",
    "boston['MEDV'] = boston_data.target\n",
    "boston.columns = [col.lower() for col in boston.columns]\n",
    "\n",
    "# Display first few rows\n",
    "boston.head()\n"
   ]
  },
  {
   "cell_type": "code",
   "execution_count": null,
   "id": "ce9d6552",
   "metadata": {},
   "outputs": [],
   "source": [
    "# Summary statistics\n",
    "boston.describe()\n"
   ]
  },
  {
   "cell_type": "markdown",
   "id": "1f1cbab7",
   "metadata": {},
   "source": [
    "## Task 2: Generate Descriptive Statistics and Visualizations\n",
    "This section includes boxplots, bar plots, scatter plots, and histograms with explanations."
   ]
  },
  {
   "cell_type": "code",
   "execution_count": null,
   "id": "3327ded8",
   "metadata": {},
   "outputs": [],
   "source": [
    "import seaborn as sns\n",
    "import matplotlib.pyplot as plt\n",
    "\n",
    "# Age groups\n",
    "boston['age_group'] = pd.cut(boston['age'], bins=[0, 35, 70, 100], labels=['<=35', '36-70', '71+'])\n",
    "\n",
    "# Create subplots\n",
    "fig, axes = plt.subplots(3, 2, figsize=(15, 18))\n",
    "fig.suptitle('Descriptive Statistics and Visualizations', fontsize=18)\n",
    "\n",
    "# Boxplot for MEDV\n",
    "sns.boxplot(data=boston, y='medv', ax=axes[0, 0])\n",
    "axes[0, 0].set_title(\"Boxplot of Median Home Value (MEDV)\")\n",
    "axes[0, 0].set_ylabel(\"Median Value ($1000s)\")\n",
    "\n",
    "# Bar plot for CHAS\n",
    "chas_counts = boston['chas'].value_counts().sort_index()\n",
    "axes[0, 1].bar(['Not Bound (0)', 'Bound (1)'], chas_counts, color=['skyblue', 'salmon'])\n",
    "axes[0, 1].set_title(\"Bar Plot: Homes Bounded by Charles River\")\n",
    "axes[0, 1].set_ylabel(\"Count of Homes\")\n",
    "\n",
    "# Boxplot MEDV vs AGE group\n",
    "sns.boxplot(data=boston, x='age_group', y='medv', ax=axes[1, 0])\n",
    "axes[1, 0].set_title(\"Boxplot of MEDV by Age Group\")\n",
    "axes[1, 0].set_xlabel(\"Age Group\")\n",
    "axes[1, 0].set_ylabel(\"Median Value ($1000s)\")\n",
    "\n",
    "# Scatterplot of NOX vs INDUS\n",
    "sns.scatterplot(data=boston, x='indus', y='nox', ax=axes[1, 1])\n",
    "axes[1, 1].set_title(\"NOX vs INDUS\")\n",
    "axes[1, 1].set_xlabel(\"Proportion of Non-Retail Business Acres\")\n",
    "axes[1, 1].set_ylabel(\"NOX Concentration\")\n",
    "\n",
    "# Histogram of PTRATIO\n",
    "sns.histplot(data=boston, x='ptratio', bins=15, kde=True, ax=axes[2, 0], color='orange')\n",
    "axes[2, 0].set_title(\"Histogram of Pupil-Teacher Ratio\")\n",
    "axes[2, 0].set_xlabel(\"Pupil-Teacher Ratio\")\n",
    "axes[2, 0].set_ylabel(\"Frequency\")\n",
    "\n",
    "# Hide empty plot\n",
    "axes[2, 1].axis('off')\n",
    "\n",
    "plt.tight_layout(rect=[0, 0, 1, 0.97])\n",
    "plt.show()\n"
   ]
  },
  {
   "cell_type": "markdown",
   "id": "3e2bf55f",
   "metadata": {},
   "source": [
    "## Task 3: Use the Appropriate Tests to Answer the Questions\n",
    "We conduct hypothesis testing including t-test, ANOVA, Pearson correlation, and regression."
   ]
  },
  {
   "cell_type": "code",
   "execution_count": null,
   "id": "44e40696",
   "metadata": {},
   "outputs": [],
   "source": [
    "from scipy.stats import ttest_ind, f_oneway, pearsonr\n",
    "from sklearn.linear_model import LinearRegression\n",
    "\n",
    "# T-test for CHAS\n",
    "medv_river = boston[boston['chas'] == 1]['medv']\n",
    "medv_no_river = boston[boston['chas'] == 0]['medv']\n",
    "t_stat, p_val_ttest = ttest_ind(medv_river, medv_no_river, equal_var=False)\n",
    "\n",
    "# ANOVA for AGE groups\n",
    "group1 = boston[boston['age_group'] == '<=35']['medv']\n",
    "group2 = boston[boston['age_group'] == '36-70']['medv']\n",
    "group3 = boston[boston['age_group'] == '71+']['medv']\n",
    "f_stat, p_val_anova = f_oneway(group1, group2, group3)\n",
    "\n",
    "# Pearson correlation between NOX and INDUS\n",
    "corr_coef, p_val_corr = pearsonr(boston['nox'], boston['indus'])\n",
    "\n",
    "# Linear regression: DIS vs MEDV\n",
    "X = boston[['dis']]\n",
    "y = boston['medv']\n",
    "reg_model = LinearRegression().fit(X, y)\n",
    "slope = reg_model.coef_[0]\n",
    "intercept = reg_model.intercept_\n",
    "r_squared = reg_model.score(X, y)\n",
    "\n",
    "# Display results\n",
    "{\n",
    "    \"T-test (CHAS)\": {\"t_statistic\": round(t_stat, 4), \"p_value\": round(p_val_ttest, 4)},\n",
    "    \"ANOVA (AGE groups)\": {\"f_statistic\": round(f_stat, 4), \"p_value\": round(p_val_anova, 4)},\n",
    "    \"Pearson Correlation (NOX & INDUS)\": {\"correlation\": round(corr_coef, 4), \"p_value\": round(p_val_corr, 4)},\n",
    "    \"Linear Regression (DIS → MEDV)\": {\"slope\": round(slope, 4), \"intercept\": round(intercept, 4), \"r_squared\": round(r_squared, 4)}\n",
    "}\n"
   ]
  }
 ],
 "metadata": {
  "kernelspec": {
   "display_name": "Python 3 (ipykernel)",
   "language": "python",
   "name": "python3"
  },
  "language_info": {
   "codemirror_mode": {
    "name": "ipython",
    "version": 3
   },
   "file_extension": ".py",
   "mimetype": "text/x-python",
   "name": "python",
   "nbconvert_exporter": "python",
   "pygments_lexer": "ipython3",
   "version": "3.11.9"
  },
  "prev_pub_hash": "e8217a69c6d5ee68d06c806e939831533d260fbfc123f81d52c578e9136390dd"
 },
 "nbformat": 4,
 "nbformat_minor": 4
}
